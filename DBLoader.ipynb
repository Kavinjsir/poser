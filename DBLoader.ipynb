{
 "cells": [
  {
   "cell_type": "code",
   "execution_count": null,
   "id": "a555dc98",
   "metadata": {},
   "outputs": [],
   "source": [
    "import pandas as pd\n",
    "import ast\n",
    "import json\n",
    "from pymongo import MongoClient"
   ]
  },
  {
   "cell_type": "code",
   "execution_count": null,
   "id": "b11c91f5",
   "metadata": {},
   "outputs": [],
   "source": [
    "with open(\"config.json\", \"r\") as jsonfile:\n",
    "    config = json.load(jsonfile)"
   ]
  },
  {
   "cell_type": "code",
   "execution_count": null,
   "id": "fbe50310",
   "metadata": {},
   "outputs": [],
   "source": [
    "print(config)"
   ]
  },
  {
   "cell_type": "code",
   "execution_count": null,
   "id": "5b4a3046",
   "metadata": {},
   "outputs": [],
   "source": [
    "MONGO_URL = config[\"URI\"]\n",
    "MONGO_DB = config[\"DB_NAME\"]\n",
    "MONGO_COLLECTION = config[\"COLLECTION_NAME\"]"
   ]
  },
  {
   "cell_type": "code",
   "execution_count": null,
   "id": "59bf3e3f",
   "metadata": {},
   "outputs": [],
   "source": [
    "client = MongoClient(MONGO_URL);"
   ]
  },
  {
   "cell_type": "code",
   "execution_count": null,
   "id": "25ccefa7",
   "metadata": {},
   "outputs": [],
   "source": [
    "db = client[MONGO_DB]"
   ]
  },
  {
   "cell_type": "code",
   "execution_count": null,
   "id": "23f7df41",
   "metadata": {},
   "outputs": [],
   "source": [
    "df = pd.read_csv('pose-output.csv')"
   ]
  },
  {
   "cell_type": "code",
   "execution_count": null,
   "id": "6584ec4f",
   "metadata": {},
   "outputs": [],
   "source": [
    "df.xX_left_shoulder[0]"
   ]
  },
  {
   "cell_type": "code",
   "execution_count": null,
   "id": "5f5c7ba0",
   "metadata": {},
   "outputs": [],
   "source": [
    "ast.literal_eval(df.left_shoulder__left_wrist[0])"
   ]
  },
  {
   "cell_type": "code",
   "execution_count": null,
   "id": "acb36979",
   "metadata": {},
   "outputs": [],
   "source": [
    "df.info()"
   ]
  },
  {
   "cell_type": "code",
   "execution_count": null,
   "id": "5ce11e64",
   "metadata": {},
   "outputs": [],
   "source": [
    "for col in df.columns:\n",
    "    if col == 'name': pass\n",
    "    else: df[col] = df[col].apply(lambda x: ast.literal_eval(x))"
   ]
  },
  {
   "cell_type": "code",
   "execution_count": null,
   "id": "bdec9352",
   "metadata": {},
   "outputs": [],
   "source": [
    "df.loc[0,:]"
   ]
  },
  {
   "cell_type": "code",
   "execution_count": null,
   "id": "4280661b",
   "metadata": {},
   "outputs": [],
   "source": [
    "db[MONGO_COLLECTION].insert_many(df.to_dict('records'))"
   ]
  }
 ],
 "metadata": {
  "kernelspec": {
   "display_name": "Python 3",
   "language": "python",
   "name": "python3"
  },
  "language_info": {
   "codemirror_mode": {
    "name": "ipython",
    "version": 3
   },
   "file_extension": ".py",
   "mimetype": "text/x-python",
   "name": "python",
   "nbconvert_exporter": "python",
   "pygments_lexer": "ipython3",
   "version": "3.8.8"
  }
 },
 "nbformat": 4,
 "nbformat_minor": 5
}
